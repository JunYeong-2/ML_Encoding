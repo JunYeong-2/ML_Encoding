{
 "cells": [
  {
   "cell_type": "code",
   "execution_count": 1,
   "id": "13f8bbff",
   "metadata": {},
   "outputs": [],
   "source": [
    "import pandas as pd\n",
    "import numpy as np\n",
    "import matplotlib.pyplot as plt\n",
    "import seaborn as sns\n",
    "%matplotlib inline\n",
    "import warnings\n",
    "warnings.filterwarnings('ignore')\n",
    "\n",
    "from sklearn.neural_network import MLPClassifier\n",
    "from sklearn.linear_model import LogisticRegression\n",
    "from sklearn.tree import DecisionTreeClassifier\n",
    "import category_encoders as ce"
   ]
  },
  {
   "cell_type": "code",
   "execution_count": 3,
   "id": "3029871c",
   "metadata": {},
   "outputs": [],
   "source": [
    "dr = 'data/'\n",
    "\n",
    "sample = pd.read_csv(dr + 'sample_submission.csv')\n",
    "train = pd.read_csv(dr + 'train.csv')\n",
    "test = pd.read_csv(dr + 'test.csv')"
   ]
  },
  {
   "cell_type": "code",
   "execution_count": 4,
   "id": "df102777",
   "metadata": {},
   "outputs": [],
   "source": [
    "X_train = train.copy()\n",
    "X_test = test.copy()\n",
    "y_train = X_train.pop('target')"
   ]
  },
  {
   "cell_type": "markdown",
   "id": "217ad326",
   "metadata": {},
   "source": [
    "# EDA"
   ]
  },
  {
   "cell_type": "code",
   "execution_count": 5,
   "id": "291532ef",
   "metadata": {
    "scrolled": false
   },
   "outputs": [
    {
     "data": {
      "text/plain": [
       "[('id', 600000),\n",
       " ('bin_0', 3),\n",
       " ('bin_1', 3),\n",
       " ('bin_2', 3),\n",
       " ('bin_3', 3),\n",
       " ('bin_4', 3),\n",
       " ('nom_0', 4),\n",
       " ('nom_1', 7),\n",
       " ('nom_2', 7),\n",
       " ('nom_3', 7),\n",
       " ('nom_4', 5),\n",
       " ('nom_5', 1221),\n",
       " ('nom_6', 1520),\n",
       " ('nom_7', 223),\n",
       " ('nom_8', 223),\n",
       " ('nom_9', 2219),\n",
       " ('ord_0', 4),\n",
       " ('ord_1', 6),\n",
       " ('ord_2', 7),\n",
       " ('ord_3', 16),\n",
       " ('ord_4', 27),\n",
       " ('ord_5', 191),\n",
       " ('day', 8),\n",
       " ('month', 13),\n",
       " ('target', 2)]"
      ]
     },
     "execution_count": 5,
     "metadata": {},
     "output_type": "execute_result"
    }
   ],
   "source": [
    "# 변수별 unique 개수\n",
    "[(i,len(train[i].unique())) for i in train.columns]"
   ]
  },
  {
   "cell_type": "code",
   "execution_count": 6,
   "id": "f53f75b1",
   "metadata": {},
   "outputs": [
    {
     "name": "stdout",
     "output_type": "stream",
     "text": [
      "bin_0\n",
      "0.0    0.880628\n",
      "1.0    0.089548\n",
      "NaN    0.029823\n",
      "Name: bin_0, dtype: float64 \n",
      "\n",
      "0.0    0.879443\n",
      "1.0    0.090805\n",
      "NaN    0.029753\n",
      "Name: bin_0, dtype: float64\n",
      "ㅡㅡㅡㅡㅡㅡㅡㅡㅡㅡㅡㅡㅡ\n",
      "bin_1\n",
      "0.0    0.790030\n",
      "1.0    0.179965\n",
      "NaN    0.030005\n",
      "Name: bin_1, dtype: float64 \n",
      "\n",
      "0.0    0.788382\n",
      "1.0    0.181523\n",
      "NaN    0.030095\n",
      "Name: bin_1, dtype: float64\n",
      "ㅡㅡㅡㅡㅡㅡㅡㅡㅡㅡㅡㅡㅡ\n",
      "bin_2\n",
      "0.0    0.699742\n",
      "1.0    0.270375\n",
      "NaN    0.029883\n",
      "Name: bin_2, dtype: float64 \n",
      "\n",
      "0.0    0.699995\n",
      "1.0    0.270075\n",
      "NaN    0.029930\n",
      "Name: bin_2, dtype: float64\n",
      "ㅡㅡㅡㅡㅡㅡㅡㅡㅡㅡㅡㅡㅡ\n",
      "bin_3\n",
      "F      0.610353\n",
      "T      0.359623\n",
      "NaN    0.030023\n",
      "Name: bin_3, dtype: float64 \n",
      "\n",
      "F      0.610230\n",
      "T      0.359893\n",
      "NaN    0.029878\n",
      "Name: bin_3, dtype: float64\n",
      "ㅡㅡㅡㅡㅡㅡㅡㅡㅡㅡㅡㅡㅡ\n",
      "bin_4\n",
      "N      0.520573\n",
      "Y      0.449348\n",
      "NaN    0.030078\n",
      "Name: bin_4, dtype: float64 \n",
      "\n",
      "N      0.521068\n",
      "Y      0.449055\n",
      "NaN    0.029878\n",
      "Name: bin_4, dtype: float64\n",
      "ㅡㅡㅡㅡㅡㅡㅡㅡㅡㅡㅡㅡㅡ\n",
      "nom_0\n",
      "Red      0.538810\n",
      "Blue     0.343102\n",
      "Green    0.087668\n",
      "NaN      0.030420\n",
      "Name: nom_0, dtype: float64 \n",
      "\n",
      "Red      0.541130\n",
      "Blue     0.341480\n",
      "Green    0.087235\n",
      "NaN      0.030155\n",
      "Name: nom_0, dtype: float64\n",
      "ㅡㅡㅡㅡㅡㅡㅡㅡㅡㅡㅡㅡㅡ\n",
      "nom_1\n",
      "Triangle     0.273650\n",
      "Polygon      0.254272\n",
      "Trapezoid    0.199063\n",
      "Circle       0.174992\n",
      "Square       0.044172\n",
      "NaN          0.030260\n",
      "Star         0.023592\n",
      "Name: nom_1, dtype: float64 \n",
      "\n",
      "Triangle     0.274105\n",
      "Polygon      0.253472\n",
      "Trapezoid    0.200063\n",
      "Circle       0.175190\n",
      "Square       0.043495\n",
      "NaN          0.029868\n",
      "Star         0.023807\n",
      "Name: nom_1, dtype: float64\n",
      "ㅡㅡㅡㅡㅡㅡㅡㅡㅡㅡㅡㅡㅡ\n",
      "nom_2\n",
      "Hamster    0.274828\n",
      "Axolotl    0.253865\n",
      "Lion       0.199173\n",
      "Dog        0.174708\n",
      "Cat        0.043793\n",
      "NaN        0.030058\n",
      "Snake      0.023573\n",
      "Name: nom_2, dtype: float64 \n",
      "\n",
      "Hamster    0.273247\n",
      "Axolotl    0.254590\n",
      "Lion       0.199255\n",
      "Dog        0.174817\n",
      "Cat        0.044103\n",
      "NaN        0.030447\n",
      "Snake      0.023540\n",
      "Name: nom_2, dtype: float64\n",
      "ㅡㅡㅡㅡㅡㅡㅡㅡㅡㅡㅡㅡㅡ\n",
      "nom_3\n",
      "India         0.274782\n",
      "Costa Rica    0.253045\n",
      "Russia        0.199733\n",
      "Finland       0.174335\n",
      "Canada        0.044042\n",
      "NaN           0.030202\n",
      "China         0.023862\n",
      "Name: nom_3, dtype: float64 \n",
      "\n",
      "India         0.274193\n",
      "Costa Rica    0.253617\n",
      "Russia        0.200233\n",
      "Finland       0.173967\n",
      "Canada        0.044048\n",
      "NaN           0.030440\n",
      "China         0.023502\n",
      "Name: nom_3, dtype: float64\n",
      "ㅡㅡㅡㅡㅡㅡㅡㅡㅡㅡㅡㅡㅡ\n",
      "nom_4\n",
      "Theremin    0.514368\n",
      "Bassoon     0.327732\n",
      "Oboe        0.083327\n",
      "Piano       0.044515\n",
      "NaN         0.030058\n",
      "Name: nom_4, dtype: float64 \n",
      "\n",
      "Theremin    0.513842\n",
      "Bassoon     0.328663\n",
      "Oboe        0.083330\n",
      "Piano       0.044182\n",
      "NaN         0.029982\n",
      "Name: nom_4, dtype: float64\n",
      "ㅡㅡㅡㅡㅡㅡㅡㅡㅡㅡㅡㅡㅡ\n",
      "nom_5\n",
      "NaN          0.029630\n",
      "fc8fc7e56    0.001628\n",
      "360a16627    0.001620\n",
      "423976253    0.001602\n",
      "7917d446c    0.001602\n",
      "               ...   \n",
      "7335087fd    0.000008\n",
      "30019ce8a    0.000005\n",
      "0385d0739    0.000002\n",
      "b3ad70fcb    0.000002\n",
      "d6bb2181a    0.000002\n",
      "Name: nom_5, Length: 1221, dtype: float64 \n",
      "\n",
      "NaN          0.029780\n",
      "e32171484    0.001687\n",
      "360a16627    0.001653\n",
      "746554f5a    0.001638\n",
      "5968f0acd    0.001620\n",
      "               ...   \n",
      "30019ce8a    0.000013\n",
      "6ed2e8c60    0.000013\n",
      "d6bb2181a    0.000010\n",
      "0385d0739    0.000008\n",
      "7335087fd    0.000003\n",
      "Name: nom_5, Length: 1220, dtype: float64\n",
      "ㅡㅡㅡㅡㅡㅡㅡㅡㅡㅡㅡㅡㅡ\n",
      "nom_6\n",
      "NaN          0.030218\n",
      "ea8c5e181    0.001342\n",
      "9fa481341    0.001330\n",
      "2b94ada45    0.001320\n",
      "32e9bd1ff    0.001313\n",
      "               ...   \n",
      "f0732a795    0.000007\n",
      "322548bed    0.000005\n",
      "d6ea07c05    0.000003\n",
      "b4b8de4b9    0.000003\n",
      "3a121fefb    0.000002\n",
      "Name: nom_6, Length: 1520, dtype: float64 \n",
      "\n",
      "NaN          0.030030\n",
      "4e161a54d    0.001385\n",
      "007c05fbd    0.001370\n",
      "822ea3950    0.001340\n",
      "5f98e802b    0.001330\n",
      "               ...   \n",
      "22d978806    0.000005\n",
      "d6ea07c05    0.000005\n",
      "572db8d47    0.000005\n",
      "322548bed    0.000003\n",
      "a885aacec    0.000003\n",
      "Name: nom_6, Length: 1518, dtype: float64\n",
      "ㅡㅡㅡㅡㅡㅡㅡㅡㅡㅡㅡㅡㅡ\n",
      "nom_7\n",
      "NaN          0.030005\n",
      "4ae48e857    0.008392\n",
      "c79d2197d    0.008385\n",
      "86ec768cd    0.008268\n",
      "a7059911d    0.008242\n",
      "               ...   \n",
      "b39008216    0.000325\n",
      "1828818ab    0.000303\n",
      "75d0e3ef8    0.000262\n",
      "deec583dd    0.000155\n",
      "e9c57c4aa    0.000132\n",
      "Name: nom_7, Length: 223, dtype: float64 \n",
      "\n",
      "NaN          0.030007\n",
      "1dddb8473    0.008485\n",
      "ba9faf5b1    0.008327\n",
      "41901460a    0.008323\n",
      "3d9d8f526    0.008305\n",
      "               ...   \n",
      "b39008216    0.000325\n",
      "1828818ab    0.000322\n",
      "75d0e3ef8    0.000245\n",
      "deec583dd    0.000175\n",
      "e9c57c4aa    0.000112\n",
      "Name: nom_7, Length: 223, dtype: float64\n",
      "ㅡㅡㅡㅡㅡㅡㅡㅡㅡㅡㅡㅡㅡ\n",
      "nom_8\n",
      "NaN          0.029592\n",
      "7d7c02c57    0.008420\n",
      "15f03b1f4    0.008323\n",
      "5859a8a06    0.008315\n",
      "d7e75499d    0.008312\n",
      "               ...   \n",
      "8d31d1ab3    0.000345\n",
      "4584d6fcd    0.000290\n",
      "607c26084    0.000248\n",
      "115d9fd8b    0.000175\n",
      "6492aecc3    0.000102\n",
      "Name: nom_8, Length: 223, dtype: float64 \n",
      "\n",
      "NaN          0.029890\n",
      "d7e75499d    0.008610\n",
      "5bdcf7324    0.008348\n",
      "ef752c107    0.008323\n",
      "7d7c02c57    0.008260\n",
      "               ...   \n",
      "8d31d1ab3    0.000280\n",
      "607c26084    0.000273\n",
      "4584d6fcd    0.000240\n",
      "115d9fd8b    0.000202\n",
      "6492aecc3    0.000095\n",
      "Name: nom_8, Length: 223, dtype: float64\n",
      "ㅡㅡㅡㅡㅡㅡㅡㅡㅡㅡㅡㅡㅡ\n",
      "nom_9\n",
      "NaN          0.030122\n",
      "8f3276a6e    0.000942\n",
      "65b262989    0.000940\n",
      "c5361037c    0.000933\n",
      "9bc905a9d    0.000930\n",
      "               ...   \n",
      "978258393    0.000003\n",
      "432e3fc6a    0.000003\n",
      "1538d82e9    0.000003\n",
      "5f565a682    0.000002\n",
      "d1e6704ed    0.000002\n",
      "Name: nom_9, Length: 2219, dtype: float64 \n",
      "\n",
      "NaN          0.030150\n",
      "3820773ae    0.000963\n",
      "f61c51337    0.000955\n",
      "146bbb38b    0.000947\n",
      "c846c4136    0.000932\n",
      "               ...   \n",
      "21cb5bac6    0.000003\n",
      "75a09d26d    0.000003\n",
      "b248935a4    0.000003\n",
      "b5f9881ba    0.000003\n",
      "432e3fc6a    0.000003\n",
      "Name: nom_9, Length: 2217, dtype: float64\n",
      "ㅡㅡㅡㅡㅡㅡㅡㅡㅡㅡㅡㅡㅡ\n",
      "ord_0\n",
      "1.0    0.379862\n",
      "3.0    0.329663\n",
      "2.0    0.259995\n",
      "NaN    0.030480\n",
      "Name: ord_0, dtype: float64 \n",
      "\n",
      "1.0    0.379148\n",
      "3.0    0.330755\n",
      "2.0    0.260365\n",
      "NaN    0.029732\n",
      "Name: ord_0, dtype: float64\n",
      "ㅡㅡㅡㅡㅡㅡㅡㅡㅡㅡㅡㅡㅡ\n",
      "ord_1\n",
      "Novice         0.267662\n",
      "Expert         0.232795\n",
      "Contributor    0.183035\n",
      "Grandmaster    0.159777\n",
      "Master         0.126663\n",
      "NaN            0.030068\n",
      "Name: ord_1, dtype: float64 \n",
      "\n",
      "Novice         0.267072\n",
      "Expert         0.232157\n",
      "Contributor    0.182672\n",
      "Grandmaster    0.159965\n",
      "Master         0.127715\n",
      "NaN            0.030418\n",
      "Name: ord_1, dtype: float64\n",
      "ㅡㅡㅡㅡㅡㅡㅡㅡㅡㅡㅡㅡㅡ\n",
      "ord_2\n",
      "Freezing       0.237877\n",
      "Warm           0.207065\n",
      "Cold           0.163037\n",
      "Boiling Hot    0.141317\n",
      "Hot            0.112513\n",
      "Lava Hot       0.108067\n",
      "NaN            0.030125\n",
      "Name: ord_2, dtype: float64 \n",
      "\n",
      "Freezing       0.238217\n",
      "Warm           0.207350\n",
      "Cold           0.162605\n",
      "Boiling Hot    0.141560\n",
      "Hot            0.111272\n",
      "Lava Hot       0.108732\n",
      "NaN            0.030263\n",
      "Name: ord_2, dtype: float64\n",
      "ㅡㅡㅡㅡㅡㅡㅡㅡㅡㅡㅡㅡㅡ\n",
      "ord_3\n",
      "n      0.118303\n",
      "a      0.108868\n",
      "m      0.096633\n",
      "c      0.094458\n",
      "h      0.092907\n",
      "o      0.075773\n",
      "b      0.074658\n",
      "e      0.064840\n",
      "k      0.064530\n",
      "i      0.057938\n",
      "d      0.051057\n",
      "f      0.049083\n",
      "NaN    0.029860\n",
      "g      0.010300\n",
      "j      0.006065\n",
      "l      0.004725\n",
      "Name: ord_3, dtype: float64 \n",
      "\n",
      "n      0.118830\n",
      "a      0.109063\n",
      "m      0.095930\n",
      "c      0.094720\n",
      "h      0.092435\n",
      "o      0.076210\n",
      "b      0.073640\n",
      "e      0.064070\n",
      "k      0.064000\n",
      "i      0.058632\n",
      "d      0.051380\n",
      "f      0.049427\n",
      "NaN    0.030132\n",
      "g      0.010507\n",
      "j      0.006130\n",
      "l      0.004893\n",
      "Name: ord_3, dtype: float64\n",
      "ㅡㅡㅡㅡㅡㅡㅡㅡㅡㅡㅡㅡㅡ\n",
      "ord_4\n",
      "N      0.066630\n",
      "P      0.063150\n",
      "Y      0.061095\n",
      "A      0.061055\n",
      "R      0.055075\n",
      "U      0.054828\n",
      "M      0.054173\n",
      "X      0.053912\n",
      "C      0.053520\n",
      "H      0.051982\n",
      "Q      0.050242\n",
      "T      0.049538\n",
      "O      0.042683\n",
      "B      0.042020\n",
      "E      0.036452\n",
      "K      0.036127\n",
      "I      0.033008\n",
      "NaN    0.029883\n",
      "D      0.028807\n",
      "F      0.027868\n",
      "W      0.013780\n",
      "Z      0.009650\n",
      "S      0.007658\n",
      "G      0.005673\n",
      "V      0.005178\n",
      "J      0.003250\n",
      "L      0.002762\n",
      "Name: ord_4, dtype: float64 \n",
      "\n",
      "N      0.066812\n",
      "P      0.063478\n",
      "Y      0.062177\n",
      "A      0.061195\n",
      "R      0.055133\n",
      "U      0.055043\n",
      "M      0.053718\n",
      "X      0.053547\n",
      "C      0.052832\n",
      "H      0.051252\n",
      "Q      0.049908\n",
      "T      0.049412\n",
      "O      0.043368\n",
      "B      0.041763\n",
      "E      0.036635\n",
      "K      0.035805\n",
      "I      0.032808\n",
      "NaN    0.029833\n",
      "D      0.028503\n",
      "F      0.027885\n",
      "W      0.014085\n",
      "Z      0.009933\n",
      "S      0.007992\n",
      "G      0.005725\n",
      "V      0.005105\n",
      "J      0.003328\n",
      "L      0.002727\n",
      "Name: ord_4, dtype: float64\n",
      "ㅡㅡㅡㅡㅡㅡㅡㅡㅡㅡㅡㅡㅡ\n",
      "ord_5\n",
      "NaN    0.029522\n",
      "Fl     0.017603\n",
      "DN     0.015878\n",
      "Sz     0.014423\n",
      "RV     0.009413\n",
      "         ...   \n",
      "vw     0.000315\n",
      "gV     0.000207\n",
      "vQ     0.000200\n",
      "eA     0.000152\n",
      "Zv     0.000145\n",
      "Name: ord_5, Length: 191, dtype: float64 \n",
      "\n",
      "NaN    0.030117\n",
      "Fl     0.017335\n",
      "DN     0.015560\n",
      "Sz     0.014667\n",
      "oJ     0.009352\n",
      "         ...   \n",
      "MX     0.000258\n",
      "gV     0.000218\n",
      "vQ     0.000175\n",
      "eA     0.000170\n",
      "Zv     0.000155\n",
      "Name: ord_5, Length: 191, dtype: float64\n",
      "ㅡㅡㅡㅡㅡㅡㅡㅡㅡㅡㅡㅡㅡ\n",
      "day\n",
      "3.0    0.189725\n",
      "5.0    0.184107\n",
      "6.0    0.162387\n",
      "7.0    0.144058\n",
      "1.0    0.141207\n",
      "2.0    0.109158\n",
      "4.0    0.039438\n",
      "NaN    0.029920\n",
      "Name: day, dtype: float64 \n",
      "\n",
      "3.0    0.189915\n",
      "5.0    0.184193\n",
      "6.0    0.161227\n",
      "7.0    0.144290\n",
      "1.0    0.141313\n",
      "2.0    0.109552\n",
      "4.0    0.039448\n",
      "NaN    0.030062\n",
      "Name: day, dtype: float64\n",
      "ㅡㅡㅡㅡㅡㅡㅡㅡㅡㅡㅡㅡㅡ\n",
      "month\n",
      "8.0     0.132075\n",
      "3.0     0.116933\n",
      "5.0     0.114843\n",
      "12.0    0.113900\n",
      "6.0     0.100797\n",
      "7.0     0.089133\n",
      "1.0     0.086923\n",
      "11.0    0.085275\n",
      "2.0     0.067833\n",
      "9.0     0.034367\n",
      "NaN     0.029980\n",
      "4.0     0.024357\n",
      "10.0    0.003583\n",
      "Name: month, dtype: float64 \n",
      "\n",
      "8.0     0.133180\n",
      "3.0     0.118407\n",
      "5.0     0.114740\n",
      "12.0    0.113345\n",
      "6.0     0.100752\n",
      "7.0     0.089072\n",
      "1.0     0.086527\n",
      "11.0    0.085413\n",
      "2.0     0.067320\n",
      "9.0     0.033630\n",
      "NaN     0.029960\n",
      "4.0     0.023922\n",
      "10.0    0.003730\n",
      "Name: month, dtype: float64\n",
      "ㅡㅡㅡㅡㅡㅡㅡㅡㅡㅡㅡㅡㅡ\n"
     ]
    }
   ],
   "source": [
    "# 변수별 데이터 비율 확인\n",
    "for i in X_train.drop(columns=['id']).columns:\n",
    "    print(i)\n",
    "    print(X_train[i].value_counts(dropna=False, normalize=True), '\\n')\n",
    "    print(X_test[i].value_counts(dropna=False, normalize=True))\n",
    "    print('ㅡㅡㅡㅡㅡㅡㅡㅡㅡㅡㅡㅡㅡ')"
   ]
  },
  {
   "cell_type": "markdown",
   "id": "5c9f5b20",
   "metadata": {},
   "source": [
    "# Preprocessing"
   ]
  },
  {
   "cell_type": "code",
   "execution_count": 7,
   "id": "c6eb1940",
   "metadata": {},
   "outputs": [],
   "source": [
    "X_train = X_train.drop(columns=['id'])\n",
    "X_test = X_test.drop(columns=['id'])"
   ]
  },
  {
   "cell_type": "code",
   "execution_count": 8,
   "id": "9c57b5b6",
   "metadata": {},
   "outputs": [],
   "source": [
    "cat_all = ['bin_0', 'bin_1', 'bin_2', 'bin_3', 'bin_4', 'nom_0', 'nom_1',\n",
    "       'nom_2', 'nom_3', 'nom_4', 'nom_5', 'nom_6', 'nom_7', 'nom_8', \n",
    "       'nom_9','ord_0', 'ord_1', 'ord_2', 'ord_3', 'ord_4', 'ord_5','day','month']"
   ]
  },
  {
   "cell_type": "code",
   "execution_count": 9,
   "id": "0c589834",
   "metadata": {},
   "outputs": [],
   "source": [
    "# submission 제출을 위해 결측값 제거 대신 대체값(최빈값) 사용\n",
    "from sklearn.impute import SimpleImputer\n",
    "\n",
    "imp = SimpleImputer(strategy=\"most_frequent\")\n",
    "\n",
    "X_train[cat_all] = imp.fit_transform(X_train[cat_all])\n",
    "X_test[cat_all] = imp.transform(X_test[cat_all])"
   ]
  },
  {
   "cell_type": "markdown",
   "id": "69745f0f",
   "metadata": {},
   "source": [
    "# ENCODING & MODELING"
   ]
  },
  {
   "cell_type": "markdown",
   "id": "c687c4ab",
   "metadata": {},
   "source": [
    "## OneHotEncoding"
   ]
  },
  {
   "cell_type": "code",
   "execution_count": 10,
   "id": "457eb336",
   "metadata": {},
   "outputs": [],
   "source": [
    "from sklearn.preprocessing import OneHotEncoder\n",
    "\n",
    "ohe = OneHotEncoder(handle_unknown='ignore', sparse=True)\n",
    "ohe.fit(X_train)\n",
    "\n",
    "ohe_train = pd.DataFrame(ohe.transform(X_train))\n",
    "ohe_test = pd.DataFrame(ohe.transform(X_test))"
   ]
  },
  {
   "cell_type": "code",
   "execution_count": 11,
   "id": "45bcd217",
   "metadata": {},
   "outputs": [],
   "source": [
    "train_ohe = ohe.fit_transform(X_train)\n",
    "test_ohe = ohe.transform(X_test)"
   ]
  },
  {
   "cell_type": "code",
   "execution_count": 12,
   "id": "a616cf4b",
   "metadata": {
    "scrolled": true
   },
   "outputs": [],
   "source": [
    "# LR_sub(train_ohe, test_ohe)\n",
    "# DT_sub(train_ohe, test_ohe)\n",
    "# MLP_sub(train_ohe, test_ohe)"
   ]
  },
  {
   "cell_type": "markdown",
   "id": "cf7e81b2",
   "metadata": {},
   "source": [
    "## LabelEncoding"
   ]
  },
  {
   "cell_type": "code",
   "execution_count": 13,
   "id": "19b4b29e",
   "metadata": {},
   "outputs": [],
   "source": [
    "from sklearn.preprocessing import LabelEncoder\n",
    "all_le = pd.concat([X_train,X_test])\n",
    "all_train_le, X_train_le, X_test_le, = all_le, X_train.copy(), X_test.copy()\n",
    "encoder = LabelEncoder()\n",
    "\n",
    "for i in cat_all:\n",
    "    all_train_le[i+'le'] = encoder.fit_transform(all_le[i])\n",
    "    X_test_le[i+'le'] = encoder.transform(X_test[i])\n",
    "\n",
    "X_train_le = all_train_le.iloc[:600000,23:]\n",
    "X_test_le =X_test_le.iloc[:,23:]"
   ]
  },
  {
   "cell_type": "code",
   "execution_count": 14,
   "id": "62d15ceb",
   "metadata": {},
   "outputs": [],
   "source": [
    "# LR_sub(X_train_le,X_test_le)\n",
    "# DT_sub(X_train_le,X_test_le)\n",
    "# MLP_sub(X_train_le, X_test_le)"
   ]
  },
  {
   "cell_type": "markdown",
   "id": "be43a521",
   "metadata": {},
   "source": [
    "## OrdinalEncoding"
   ]
  },
  {
   "cell_type": "code",
   "execution_count": 15,
   "id": "83d199e7",
   "metadata": {},
   "outputs": [],
   "source": [
    "from sklearn.preprocessing import OrdinalEncoder\n",
    "X_train_oe, X_test_oe, = X_train.copy(), X_test.copy()\n",
    "\n",
    "oe = OrdinalEncoder(handle_unknown='use_encoded_value', unknown_value=-1, dtype=int)\n",
    "X_train_oe[cat_all] = oe.fit_transform(X_train[cat_all])\n",
    "X_test_oe[cat_all] = oe.transform(X_test[cat_all])"
   ]
  },
  {
   "cell_type": "code",
   "execution_count": 16,
   "id": "060f6eaa",
   "metadata": {},
   "outputs": [],
   "source": [
    "# LR_sub(X_train_oe,X_test_oe)\n",
    "# DT_sub(X_train_oe,X_test_oe)\n",
    "# MLP_sub(X_train_oe, X_test_oe)"
   ]
  },
  {
   "cell_type": "markdown",
   "id": "4192edae",
   "metadata": {},
   "source": [
    "## BinaryEncoding"
   ]
  },
  {
   "cell_type": "code",
   "execution_count": 17,
   "id": "9d2a3b7f",
   "metadata": {},
   "outputs": [],
   "source": [
    "X_train_be , X_test_be = X_train.copy(), X_test.copy()\n",
    "encoder = ce.BinaryEncoder()\n",
    "X_train_be2 = encoder.fit_transform(X_train_be[cat_all])\n",
    "X_test_be2 = encoder.fit_transform(X_test_be[cat_all])"
   ]
  },
  {
   "cell_type": "code",
   "execution_count": 18,
   "id": "0bec1a07",
   "metadata": {},
   "outputs": [],
   "source": [
    "# LR_sub(X_train_be2,X_test_be2)\n",
    "# DT_sub(X_train_be2,X_test_be2)\n",
    "# MLP_sub(X_train_be2, X_test_be2)"
   ]
  },
  {
   "cell_type": "markdown",
   "id": "4831d920",
   "metadata": {},
   "source": [
    "## FrequencyEncoding"
   ]
  },
  {
   "cell_type": "code",
   "execution_count": 19,
   "id": "7cd20279",
   "metadata": {},
   "outputs": [],
   "source": [
    "X_train_fe, X_test_fe = X_train.copy(), X_test.copy()\n",
    "\n",
    "for feat in cat_all:\n",
    "    fe = X_train_fe.groupby(feat).size() / len(X_train_fe)\n",
    "    X_train_fe.loc[:,feat+'_fe'] = X_train_fe[feat].map(fe)\n",
    "    X_test_fe.loc[:,feat+'_fe'] = X_test_fe[feat].map(fe)\n",
    "X_train_fe.drop(columns=cat_all,inplace=True)\n",
    "X_test_fe.drop(columns=cat_all,inplace=True)"
   ]
  },
  {
   "cell_type": "code",
   "execution_count": 20,
   "id": "86195bac",
   "metadata": {
    "scrolled": true
   },
   "outputs": [],
   "source": [
    "#인코딩 후에 test데이터에서 결측값이 1개 확인되어 train.mode()적용\n",
    "X_test_fe['nom_6_fe'].fillna(X_train_fe['nom_6_fe'].mode()[0],inplace=True)"
   ]
  },
  {
   "cell_type": "code",
   "execution_count": 21,
   "id": "432434ba",
   "metadata": {},
   "outputs": [],
   "source": [
    "# LR_sub(X_train_fe,X_test_fe)\n",
    "# DT_sub(X_train_fe,X_test_fe)\n",
    "# MLP_sub(X_train_fe, X_test_fe)"
   ]
  },
  {
   "cell_type": "markdown",
   "id": "234edd61",
   "metadata": {},
   "source": [
    "## MeanEncoding"
   ]
  },
  {
   "cell_type": "code",
   "execution_count": 22,
   "id": "eda09565",
   "metadata": {},
   "outputs": [],
   "source": [
    "from category_encoders import TargetEncoder\n",
    "\n",
    "all_df = pd.concat([X_train, X_test])\n",
    "te = TargetEncoder(cols=all_df.columns, min_samples_leaf=5, smoothing=50)\n",
    "\n",
    "X_train_te = te.fit_transform(X_train, y_train)\n",
    "X_test_te = te.transform(X_test)"
   ]
  },
  {
   "cell_type": "code",
   "execution_count": 23,
   "id": "14935bbc",
   "metadata": {},
   "outputs": [],
   "source": [
    "# LR_sub(X_train_te,X_test_te)\n",
    "# DT_sub(X_train_te,X_test_te)\n",
    "# MLP_sub(X_train_te, X_test_te)"
   ]
  },
  {
   "cell_type": "markdown",
   "id": "658042b6",
   "metadata": {},
   "source": [
    "## Weight of Evidence Encoding"
   ]
  },
  {
   "cell_type": "code",
   "execution_count": 24,
   "id": "c0844630",
   "metadata": {
    "scrolled": true
   },
   "outputs": [],
   "source": [
    "encoder = ce.WOEEncoder()\n",
    "X_train_we = encoder.fit_transform(X_train, y_train)\n",
    "X_test_we = encoder.transform(X_test)"
   ]
  },
  {
   "cell_type": "code",
   "execution_count": 25,
   "id": "4741b140",
   "metadata": {},
   "outputs": [],
   "source": [
    "# LR_sub(X_train_we,X_test_le)\n",
    "# DT_sub(X_train_we,X_test_le)\n",
    "# MLP_sub(X_train_we, X_test_le)"
   ]
  },
  {
   "cell_type": "markdown",
   "id": "b7dc26be",
   "metadata": {},
   "source": [
    "## Probability Ratio Encoding"
   ]
  },
  {
   "cell_type": "code",
   "execution_count": 26,
   "id": "e1c0234a",
   "metadata": {},
   "outputs": [],
   "source": [
    "X_y_train = pd.concat([X_train,y_train],axis=1)\n",
    "X_train_pre, X_test_pre = X_train.copy() , X_test.copy()\n",
    "for feat in cat_all:\n",
    "    pr = X_y_train.groupby(feat)['target'].mean()\n",
    "    pr = pd.DataFrame(pr)\n",
    "    pr = pr.rename(columns={'target':'good'})\n",
    "    pr['bad'] = 1-pr['good']\n",
    "    pr['bad'] = np.where(pr['bad']==0,0.000001,pr['bad'])\n",
    "    pr['PR'] = pr['good'] / pr['bad']\n",
    "    X_train_pre.loc[:,'pr_'+feat] = X_train_pre[feat].map(pr['PR'])\n",
    "    X_test_pre.loc[:,'pr_'+feat] = X_train_pre[feat].map(pr['PR'])\n",
    "X_train_pre.drop(columns=cat_all,inplace=True)\n",
    "X_test_pre.drop(columns=cat_all,inplace=True)"
   ]
  },
  {
   "cell_type": "code",
   "execution_count": 100,
   "id": "e0ab7dc1",
   "metadata": {},
   "outputs": [],
   "source": [
    "# LR_sub(X_train_pre,X_test_pre)\n",
    "# DT_sub(X_train_pre,X_test_pre)\n",
    "# MLP_sub(X_train_pre, X_test_pre)"
   ]
  },
  {
   "cell_type": "markdown",
   "id": "bc937ac4",
   "metadata": {},
   "source": [
    "## Hashing Encoding"
   ]
  },
  {
   "cell_type": "code",
   "execution_count": null,
   "id": "2eb7deed",
   "metadata": {},
   "outputs": [],
   "source": [
    "import category_encoders as ce\n",
    "encoder = ce.HashingEncoder(n_components=46)\n",
    "\n",
    "X_train_he = encoder.fit_transform(X_train)\n",
    "X_test_he = encoder.transform(X_test)"
   ]
  },
  {
   "cell_type": "code",
   "execution_count": null,
   "id": "88f633b2",
   "metadata": {},
   "outputs": [],
   "source": [
    "# LR_sub(X_train_he,X_test_he)\n",
    "# DT_sub(X_train_he,X_test_he)\n",
    "# MLP_sub(X_train_he, X_test_he)"
   ]
  },
  {
   "cell_type": "markdown",
   "id": "55a32c84",
   "metadata": {},
   "source": [
    "## Leave One Out Encoding"
   ]
  },
  {
   "cell_type": "code",
   "execution_count": 59,
   "id": "72f6d3ad",
   "metadata": {
    "scrolled": true
   },
   "outputs": [],
   "source": [
    "from category_encoders import LeaveOneOutEncoder \n",
    "\n",
    "X_train_loe, X_test_loe = X_train.copy(), X_test.copy()\n",
    "loe = LeaveOneOutEncoder()\n",
    "\n",
    "X_train_loe[cat_all]=loe.fit_transform(X_train_loe[cat_all],y_train)\n",
    "X_test_loe[cat_all]=loe.transform(X_test[cat_all])"
   ]
  },
  {
   "cell_type": "code",
   "execution_count": 12,
   "id": "182cfffc",
   "metadata": {},
   "outputs": [],
   "source": [
    "# LR_sub(X_train_loe,X_test_loe)\n",
    "# DT_sub(X_train_loe,X_test_loe)\n",
    "# MLP_sub(X_train_loe, X_test_loe)"
   ]
  },
  {
   "cell_type": "markdown",
   "id": "f71a7df0",
   "metadata": {},
   "source": [
    "## James-Stein Encoding"
   ]
  },
  {
   "cell_type": "code",
   "execution_count": 29,
   "id": "81bc2aed",
   "metadata": {},
   "outputs": [],
   "source": [
    "import category_encoders as ce\n",
    "encoder = ce.JamesSteinEncoder()\n",
    "X_train_jse = encoder.fit_transform(X_train, y_train)\n",
    "X_test_jse = encoder.transform(X_test)"
   ]
  },
  {
   "cell_type": "code",
   "execution_count": null,
   "id": "b7570b2d",
   "metadata": {},
   "outputs": [],
   "source": [
    "# LR_sub(X_train_jse,X_test_jse)\n",
    "# DT_sub(X_train_jse,X_test_jse)\n",
    "# MLP_sub(X_train_jse, X_test_jse)"
   ]
  },
  {
   "cell_type": "markdown",
   "id": "d80f5c38",
   "metadata": {},
   "source": [
    "## M-estimator Encoding"
   ]
  },
  {
   "cell_type": "code",
   "execution_count": 155,
   "id": "9694731d",
   "metadata": {},
   "outputs": [],
   "source": [
    "encoder = ce.MEstimateEncoder()\n",
    "X_train_mee = encoder.fit_transform(X_train, y_train)\n",
    "X_test_mee = encoder.transform(X_test)"
   ]
  },
  {
   "cell_type": "code",
   "execution_count": 156,
   "id": "7de3bce8",
   "metadata": {},
   "outputs": [],
   "source": [
    "# LR_sub(X_train_mee,X_test_mee)\n",
    "# DT_sub(X_train_mee,X_test_mee)\n",
    "# MLP_sub(X_train_mee, X_test_mee)"
   ]
  },
  {
   "cell_type": "markdown",
   "id": "434d0ab4",
   "metadata": {},
   "source": [
    "## CatBoost Encoding"
   ]
  },
  {
   "cell_type": "code",
   "execution_count": 112,
   "id": "a1261c40",
   "metadata": {
    "scrolled": true
   },
   "outputs": [],
   "source": [
    "encoder = ce.CatBoostEncoder()\n",
    "X_train_cbe = encoder.fit_transform(X_train, y_train)\n",
    "X_test_cbe = encoder.transform(X_test)"
   ]
  },
  {
   "cell_type": "code",
   "execution_count": null,
   "id": "6d41d898",
   "metadata": {},
   "outputs": [],
   "source": [
    "# LR_sub(X_train_cbe,X_test_cbe)\n",
    "# DT_sub(X_train_cbe,X_test_cbe)\n",
    "# MLP_sub(X_train_cbe, X_test_cbe)"
   ]
  },
  {
   "cell_type": "markdown",
   "id": "743c9340",
   "metadata": {},
   "source": [
    "\n",
    "## BaseN Encoding"
   ]
  },
  {
   "cell_type": "code",
   "execution_count": 111,
   "id": "ce63589f",
   "metadata": {},
   "outputs": [],
   "source": [
    "bn = ce.BaseNEncoder(return_df=True,base=5)\n",
    "X_train_be = bn.fit_transform(X_train)\n",
    "X_test_be = bn.transform(X_test)"
   ]
  },
  {
   "cell_type": "code",
   "execution_count": null,
   "id": "6dfc4a62",
   "metadata": {},
   "outputs": [],
   "source": [
    "# LR_sub(X_train_bn,X_test_bn)\n",
    "# DT_sub(X_train_bn,X_test_bn)\n",
    "# MLP_sub(X_train_bn, X_test_bn)"
   ]
  },
  {
   "cell_type": "markdown",
   "id": "cd64b5f4",
   "metadata": {},
   "source": [
    "##  Submission def "
   ]
  },
  {
   "cell_type": "code",
   "execution_count": 10,
   "id": "cfde8e15",
   "metadata": {},
   "outputs": [],
   "source": [
    "def LR_sub(X_train,X_test):\n",
    "    LR = LogisticRegression()\n",
    "    LR.fit(X_train, y_train)\n",
    "    predict = LR.predict_proba(X_test)[:,1]\n",
    "    submission = pd.DataFrame(predict).reset_index()\n",
    "    submission['index'] = submission['index']+600000\n",
    "    submission.columns = ['id','target']\n",
    "    submission.set_index('id')\n",
    "    \n",
    "    t = pd.Timestamp.now()\n",
    "    fname = f\"submission_LR{t.month:02}{t.day:02}_{t.hour:02}{t.minute:02}.csv\"\n",
    "    submission.to_csv(fname,index=False)\n",
    "    return predict"
   ]
  },
  {
   "cell_type": "code",
   "execution_count": 11,
   "id": "4cf3a7b7",
   "metadata": {},
   "outputs": [],
   "source": [
    "def DT_sub(X_train,X_test):\n",
    "    DT = DecisionTreeClassifier(max_depth = 12, random_state=0)\n",
    "    DT.fit(X_train, y_train)\n",
    "    predict = DT.predict_proba(X_test)[:,1]\n",
    "    submission = pd.DataFrame(predict).reset_index()\n",
    "    submission['index'] = submission['index']+600000\n",
    "    submission.columns = ['id','target']\n",
    "    submission.set_index('id')\n",
    "    \n",
    "    t = pd.Timestamp.now()\n",
    "    fname = f\"submission_DT{t.month:02}{t.day:02}_{t.hour:02}{t.minute:02}.csv\"\n",
    "    submission.to_csv(fname,index=False)\n",
    "    return predict"
   ]
  },
  {
   "cell_type": "code",
   "execution_count": 13,
   "id": "4038e10d",
   "metadata": {},
   "outputs": [],
   "source": [
    "def MLP_sub(X_train,X_test):\n",
    "    MLP = MLPClassifier(hidden_layer_sizes=(50,))\n",
    "    MLP.fit(X_train, y_train)\n",
    "    predict = MLP.predict_proba(X_test)[:,1]\n",
    "    submission = pd.DataFrame(predict).reset_index()\n",
    "    submission['index'] = submission['index']+600000\n",
    "    submission.columns = ['id','target']\n",
    "    submission.set_index('id')\n",
    "    \n",
    "    t = pd.Timestamp.now()\n",
    "    fname = f\"submission_MLP{t.month:02}{t.day:02}_{t.hour:02}{t.minute:02}.csv\"\n",
    "    submission.to_csv(fname,index=False)\n",
    "    return predict"
   ]
  }
 ],
 "metadata": {
  "kernelspec": {
   "display_name": "Python 3 (ipykernel)",
   "language": "python",
   "name": "python3"
  },
  "language_info": {
   "codemirror_mode": {
    "name": "ipython",
    "version": 3
   },
   "file_extension": ".py",
   "mimetype": "text/x-python",
   "name": "python",
   "nbconvert_exporter": "python",
   "pygments_lexer": "ipython3",
   "version": "3.8.12"
  }
 },
 "nbformat": 4,
 "nbformat_minor": 5
}
